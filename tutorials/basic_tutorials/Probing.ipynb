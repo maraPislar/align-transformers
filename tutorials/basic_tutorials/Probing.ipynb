{
 "cells": [
  {
   "cell_type": "markdown",
   "id": "43b4e052",
   "metadata": {},
   "source": [
    "## Tutorial of Probing with Activation Collection Intervention"
   ]
  },
  {
   "cell_type": "code",
   "execution_count": 1,
   "id": "d7757739",
   "metadata": {},
   "outputs": [],
   "source": [
    "__author__ = \"Zhengxuan Wu\"\n",
    "__version__ = \"01/11/2024\""
   ]
  },
  {
   "cell_type": "markdown",
   "id": "dc195b1d",
   "metadata": {},
   "source": [
    "### Overview\n",
    "\n",
    "This library also supports running probing experiments. Basically, we can add no-op interventions by collecting representations as requested. This activation collect can also take all the existing functionalities of a regular intervention (e.g., subspace, collect after rotation, etc..)."
   ]
  },
  {
   "cell_type": "markdown",
   "id": "f60f0581",
   "metadata": {},
   "source": [
    "### Set-up"
   ]
  },
  {
   "cell_type": "code",
   "execution_count": 2,
   "id": "c05eb797",
   "metadata": {},
   "outputs": [
    {
     "name": "stdout",
     "output_type": "stream",
     "text": [
      "[2024-01-11 18:06:47,744] [INFO] [real_accelerator.py:158:get_accelerator] Setting ds_accelerator to cuda (auto detect)\n"
     ]
    }
   ],
   "source": [
    "try:\n",
    "    # This library is our indicator that the required installs\n",
    "    # need to be done.\n",
    "    import pyvene\n",
    "\n",
    "except ModuleNotFoundError:\n",
    "    !pip install git+https://github.com/frankaging/pyvene.git"
   ]
  },
  {
   "cell_type": "code",
   "execution_count": 6,
   "id": "dcb19c06",
   "metadata": {},
   "outputs": [
    {
     "name": "stdout",
     "output_type": "stream",
     "text": [
      "loaded model\n"
     ]
    }
   ],
   "source": [
    "import pandas as pd\n",
    "from pyvene import (\n",
    "    embed_to_distrib,\n",
    "    top_vals,\n",
    "    format_token,\n",
    "    count_parameters,\n",
    "    create_gpt2\n",
    ")\n",
    "from pyvene import (\n",
    "    IntervenableModel,\n",
    "    IntervenableRepresentationConfig,\n",
    "    IntervenableConfig,\n",
    "    VanillaIntervention,\n",
    "    LowRankRotatedSpaceIntervention,\n",
    "    Intervention,\n",
    "    CollectIntervention,\n",
    ")\n",
    "\n",
    "config, tokenizer, gpt = create_gpt2()"
   ]
  },
  {
   "cell_type": "markdown",
   "id": "b2e59280",
   "metadata": {},
   "source": [
    "### Source-less Activation Collection for Base Example"
   ]
  },
  {
   "cell_type": "code",
   "execution_count": 36,
   "id": "12a7386a",
   "metadata": {},
   "outputs": [],
   "source": [
    "intervenable_config = IntervenableConfig(\n",
    "    intervenable_representations=[\n",
    "        IntervenableRepresentationConfig(\n",
    "            0,\n",
    "            \"block_output\",\n",
    "            \"pos\",\n",
    "            1,\n",
    "        ),\n",
    "    ],\n",
    "    intervenable_interventions_type=CollectIntervention,\n",
    ")\n",
    "intervenable = IntervenableModel(intervenable_config, gpt)\n",
    "\n",
    "base = tokenizer(\"The capital of Spain is\", return_tensors=\"pt\")\n",
    "sources = [\n",
    "    tokenizer(\"The capital of Italy is\", return_tensors=\"pt\"),\n",
    "    tokenizer(\"The capital of Italy is\", return_tensors=\"pt\"),\n",
    "]"
   ]
  },
  {
   "cell_type": "code",
   "execution_count": 37,
   "id": "ed452cba",
   "metadata": {},
   "outputs": [],
   "source": [
    "base_output_with_collected_activations, _ = intervenable(\n",
    "    base, \n",
    "    sources=[None],\n",
    "    unit_locations={\"sources->base\": (None, [[[4]]])} # collect from the 4-th token at layer 0 at block_output\n",
    ")\n",
    "activations = base_output_with_collected_activations[-1][0]"
   ]
  },
  {
   "cell_type": "markdown",
   "id": "13298fc6",
   "metadata": {},
   "source": [
    "The activations above come with gradients so you can directly pass it to a classifier, or store it."
   ]
  },
  {
   "cell_type": "markdown",
   "id": "fe383b4d",
   "metadata": {},
   "source": [
    "### Intervene and then Probe"
   ]
  },
  {
   "cell_type": "code",
   "execution_count": 38,
   "id": "8ebdaa15",
   "metadata": {},
   "outputs": [],
   "source": [
    "intervenable_config = IntervenableConfig(\n",
    "    intervenable_representations=[\n",
    "        IntervenableRepresentationConfig(\n",
    "            0,\n",
    "            \"block_output\",\n",
    "            \"pos\",\n",
    "            1,\n",
    "        ),\n",
    "        IntervenableRepresentationConfig(\n",
    "            2,\n",
    "            \"block_output\",\n",
    "            \"pos\",\n",
    "            1,\n",
    "        ),\n",
    "    ],\n",
    "    intervenable_interventions_type=[\n",
    "        VanillaIntervention, # intervene on layer 0\n",
    "        CollectIntervention  # then collect the intervened representation at layer 1\n",
    "    ],\n",
    ")\n",
    "intervenable = IntervenableModel(intervenable_config, gpt)\n",
    "\n",
    "base = tokenizer(\"The capital of Spain is\", return_tensors=\"pt\")\n",
    "sources = [\n",
    "    tokenizer(\"The capital of Italy is\", return_tensors=\"pt\"), None\n",
    "]"
   ]
  },
  {
   "cell_type": "code",
   "execution_count": 39,
   "id": "6cdd6308",
   "metadata": {},
   "outputs": [],
   "source": [
    "base_output_with_collected_activations, _ = intervenable(\n",
    "    base, \n",
    "    sources=sources,\n",
    "    unit_locations={\"sources->base\": ([[[4]], None], [[[4]], [[4]]])}\n",
    ")\n",
    "intervened_activations = base_output_with_collected_activations[-1][0]"
   ]
  },
  {
   "cell_type": "code",
   "execution_count": 42,
   "id": "0a75dcfd",
   "metadata": {},
   "outputs": [
    {
     "data": {
      "text/plain": [
       "tensor(10.7332)"
      ]
     },
     "execution_count": 42,
     "metadata": {},
     "output_type": "execute_result"
    }
   ],
   "source": [
    "(activations - intervened_activations).sum()"
   ]
  }
 ],
 "metadata": {
  "kernelspec": {
   "display_name": "Python 3 (ipykernel)",
   "language": "python",
   "name": "python3"
  },
  "language_info": {
   "codemirror_mode": {
    "name": "ipython",
    "version": 3
   },
   "file_extension": ".py",
   "mimetype": "text/x-python",
   "name": "python",
   "nbconvert_exporter": "python",
   "pygments_lexer": "ipython3",
   "version": "3.8.12"
  }
 },
 "nbformat": 4,
 "nbformat_minor": 5
}
