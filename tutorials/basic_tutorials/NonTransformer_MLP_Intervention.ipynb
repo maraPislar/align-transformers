{
 "cells": [
  {
   "cell_type": "markdown",
   "id": "c804055e",
   "metadata": {},
   "source": [
    "## Tutorial of Interventions on Non-transformer Model: MLPs"
   ]
  },
  {
   "cell_type": "code",
   "execution_count": 1,
   "id": "40937a8c",
   "metadata": {},
   "outputs": [],
   "source": [
    "__author__ = \"Zhengxuan Wu\"\n",
    "__version__ = \"12/20/2023\""
   ]
  },
  {
   "cell_type": "markdown",
   "id": "065c84f3",
   "metadata": {},
   "source": [
    "### Overview\n",
    "\n",
    "This tutorials show how to use this library on non-transformer models, such as MLPs. The set-ups are pretty much the same as standard transformer-based models."
   ]
  },
  {
   "cell_type": "markdown",
   "id": "2faf23b7",
   "metadata": {},
   "source": [
    "### Set-up"
   ]
  },
  {
   "cell_type": "code",
   "execution_count": 2,
   "id": "1c80bc5f",
   "metadata": {},
   "outputs": [
    {
     "name": "stdout",
     "output_type": "stream",
     "text": [
      "[2024-01-11 01:32:46,791] [INFO] [real_accelerator.py:158:get_accelerator] Setting ds_accelerator to cuda (auto detect)\n"
     ]
    }
   ],
   "source": [
    "try:\n",
    "    # This library is our indicator that the required installs\n",
    "    # need to be done.\n",
    "    import pyvene\n",
    "\n",
    "except ModuleNotFoundError:\n",
    "    !pip install git+https://github.com/frankaging/pyvene.git"
   ]
  },
  {
   "cell_type": "code",
   "execution_count": 3,
   "id": "c4ef0762",
   "metadata": {},
   "outputs": [
    {
     "name": "stdout",
     "output_type": "stream",
     "text": [
      "loaded model\n"
     ]
    }
   ],
   "source": [
    "import torch\n",
    "import pandas as pd\n",
    "from pyvene import embed_to_distrib, top_vals, format_token\n",
    "from pyvene import (\n",
    "    IntervenableModel,\n",
    "    VanillaIntervention,\n",
    "    RotatedSpaceIntervention,\n",
    "    LowRankRotatedSpaceIntervention,\n",
    "    IntervenableRepresentationConfig,\n",
    "    IntervenableConfig,\n",
    ")\n",
    "from pyvene.models.mlp.modelings_mlp import MLPConfig\n",
    "from pyvene import create_mlp_classifier\n",
    "\n",
    "%config InlineBackend.figure_formats = ['svg']\n",
    "from plotnine import (\n",
    "    ggplot,\n",
    "    geom_tile,\n",
    "    aes,\n",
    "    facet_wrap,\n",
    "    theme,\n",
    "    element_text,\n",
    "    geom_bar,\n",
    "    geom_hline,\n",
    "    scale_y_log10,\n",
    ")\n",
    "\n",
    "config, tokenizer, mlp = create_mlp_classifier(MLPConfig(h_dim=32, n_layer=1))"
   ]
  },
  {
   "cell_type": "markdown",
   "id": "10a4aaa0",
   "metadata": {},
   "source": [
    "### Intervene in middle layer by partitioning representations into subspaces\n",
    "\n",
    "MLP layer may contain only a single \"token\" representation each layer. As a result, we often want to intervene on a subspace of this \"token\" representation to localize a concept."
   ]
  },
  {
   "cell_type": "code",
   "execution_count": 4,
   "id": "d4c1f678",
   "metadata": {},
   "outputs": [
    {
     "name": "stdout",
     "output_type": "stream",
     "text": [
      "base ((tensor([[-0.1626, -0.1709]]),), None)\n",
      "source ((tensor([[-0.1141, -0.1481]]),), None)\n"
     ]
    }
   ],
   "source": [
    "intervenable_config = IntervenableConfig(\n",
    "    intervenable_model_type=type(mlp),\n",
    "    intervenable_representations=[\n",
    "        IntervenableRepresentationConfig(\n",
    "            0,\n",
    "            \"block_output\",\n",
    "            \"pos\",  # mlp layer creates a single token reprs\n",
    "            1,\n",
    "            subspace_partition=[\n",
    "                [0, 16],\n",
    "                [16, 32],\n",
    "            ],  # partition into two sets of subspaces\n",
    "        ),\n",
    "    ],\n",
    "    intervenable_interventions_type=RotatedSpaceIntervention,\n",
    ")\n",
    "intervenable = IntervenableModel(intervenable_config, mlp)\n",
    "\n",
    "base = {\"inputs_embeds\": torch.rand(1, 1, 32)}\n",
    "source = {\"inputs_embeds\": torch.rand(1, 1, 32)}\n",
    "print(\"base\", intervenable(base))\n",
    "print(\"source\", intervenable(source))"
   ]
  },
  {
   "cell_type": "code",
   "execution_count": 5,
   "id": "7f546a27",
   "metadata": {},
   "outputs": [],
   "source": [
    "_, counterfactual_outputs = intervenable(\n",
    "    base, [source], {\"sources->base\": ([[[0]]], [[[0]]])}, subspaces=[[[1, 0]]]\n",
    ")"
   ]
  },
  {
   "cell_type": "code",
   "execution_count": 6,
   "id": "6f7073d1",
   "metadata": {},
   "outputs": [
    {
     "data": {
      "text/plain": [
       "(tensor([[-0.1141, -0.1481]], grad_fn=<SqueezeBackward1>),)"
      ]
     },
     "execution_count": 6,
     "metadata": {},
     "output_type": "execute_result"
    }
   ],
   "source": [
    "counterfactual_outputs  # this should be the same as source."
   ]
  },
  {
   "cell_type": "markdown",
   "id": "82600bd7",
   "metadata": {},
   "source": [
    "### Intervene the subspace with multiple sources"
   ]
  },
  {
   "cell_type": "code",
   "execution_count": 7,
   "id": "830f00d7",
   "metadata": {},
   "outputs": [
    {
     "name": "stdout",
     "output_type": "stream",
     "text": [
      "base ((tensor([[-0.0987, -0.1492],\n",
      "        [-0.0989, -0.0679],\n",
      "        [-0.1424, -0.0600],\n",
      "        [-0.1842, -0.0832],\n",
      "        [-0.1593, -0.1935],\n",
      "        [-0.0948, -0.0782],\n",
      "        [-0.1486, -0.1780],\n",
      "        [-0.1060, -0.1453],\n",
      "        [-0.1249, -0.2012],\n",
      "        [-0.1365, -0.1093]]),), None)\n",
      "source ((tensor([[-0.1486, -0.2303],\n",
      "        [-0.0673, -0.1547],\n",
      "        [-0.1168, -0.0861],\n",
      "        [-0.1526, -0.1426],\n",
      "        [-0.1433, -0.1334],\n",
      "        [-0.1238, -0.2006],\n",
      "        [-0.1416, -0.1591],\n",
      "        [-0.1560, -0.0976],\n",
      "        [-0.1467, -0.1371],\n",
      "        [-0.0933, -0.2142]]),), None)\n"
     ]
    }
   ],
   "source": [
    "intervenable_config = IntervenableConfig(\n",
    "    intervenable_model_type=type(mlp),\n",
    "    intervenable_representations=[\n",
    "        IntervenableRepresentationConfig(\n",
    "            0,\n",
    "            \"block_output\",\n",
    "            \"pos\",  # mlp layer creates a single token reprs\n",
    "            1,\n",
    "            intervenable_low_rank_dimension=32,\n",
    "            subspace_partition=[\n",
    "                [0, 16],\n",
    "                [16, 32],\n",
    "            ],  # partition into two sets of subspaces\n",
    "            intervention_link_key=0,  # linked ones target the same subspace\n",
    "        ),\n",
    "        IntervenableRepresentationConfig(\n",
    "            0,\n",
    "            \"block_output\",\n",
    "            \"pos\",  # mlp layer creates a single token reprs\n",
    "            1,\n",
    "            intervenable_low_rank_dimension=32,\n",
    "            subspace_partition=[\n",
    "                [0, 16],\n",
    "                [16, 32],\n",
    "            ],  # partition into two sets of subspaces\n",
    "            intervention_link_key=0,  # linked ones target the same subspace\n",
    "        ),\n",
    "    ],\n",
    "    intervenable_interventions_type=LowRankRotatedSpaceIntervention,\n",
    ")\n",
    "intervenable = IntervenableModel(intervenable_config, mlp)\n",
    "\n",
    "base = {\"inputs_embeds\": torch.rand(10, 1, 32)}\n",
    "source = {\"inputs_embeds\": torch.rand(10, 1, 32)}\n",
    "print(\"base\", intervenable(base))\n",
    "print(\"source\", intervenable(source))"
   ]
  },
  {
   "cell_type": "code",
   "execution_count": 8,
   "id": "045d74f5",
   "metadata": {},
   "outputs": [
    {
     "name": "stdout",
     "output_type": "stream",
     "text": [
      "(tensor([[-0.1486, -0.2303],\n",
      "        [-0.0673, -0.1547],\n",
      "        [-0.1168, -0.0861],\n",
      "        [-0.1526, -0.1426],\n",
      "        [-0.1433, -0.1334],\n",
      "        [-0.1238, -0.2006],\n",
      "        [-0.1416, -0.1591],\n",
      "        [-0.1560, -0.0976],\n",
      "        [-0.1467, -0.1371],\n",
      "        [-0.0933, -0.2142]], grad_fn=<SqueezeBackward1>),)\n"
     ]
    }
   ],
   "source": [
    "_, counterfactual_outputs = intervenable(\n",
    "    base,\n",
    "    [source, source],\n",
    "    {\"sources->base\": ([[[0]] * 10, [[0]] * 10], [[[0]] * 10, [[0]] * 10])},\n",
    "    subspaces=[[[1]] * 10, [[0]] * 10],\n",
    ")\n",
    "print(counterfactual_outputs)  # this should be the same as the source output\n",
    "counterfactual_outputs[\n",
    "    0\n",
    "].sum().backward()  # fake call to make sure gradient can be populated"
   ]
  }
 ],
 "metadata": {
  "kernelspec": {
   "display_name": "Python 3 (ipykernel)",
   "language": "python",
   "name": "python3"
  },
  "language_info": {
   "codemirror_mode": {
    "name": "ipython",
    "version": 3
   },
   "file_extension": ".py",
   "mimetype": "text/x-python",
   "name": "python",
   "nbconvert_exporter": "python",
   "pygments_lexer": "ipython3",
   "version": "3.8.12"
  }
 },
 "nbformat": 4,
 "nbformat_minor": 5
}
